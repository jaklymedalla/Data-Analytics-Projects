{
 "cells": [
  {
   "cell_type": "code",
   "execution_count": 45,
   "id": "e21284bc-cdf0-427d-81f1-d85d2f2c57ee",
   "metadata": {},
   "outputs": [
    {
     "name": "stdin",
     "output_type": "stream",
     "text": [
      "Enter your name:  jak\n",
      "Enter your weight in pounds:  170\n",
      "Enter your height in inches:  69\n"
     ]
    },
    {
     "name": "stdout",
     "output_type": "stream",
     "text": [
      "25.101869355177485\n",
      "jak,You are over weight.\n"
     ]
    }
   ],
   "source": [
    "name = input(\"Enter your name: \")\n",
    "weight = int(input(\"Enter your weight in pounds: \"))\n",
    "height = int(input(\"Enter your height in inches: \"))\n",
    "BMI = (weight * 703) / (height * height)\n",
    "print(BMI)\n",
    "if BMI > 0:\n",
    "    if (BMI < 18.5):\n",
    "        print(name +\",You are under weight.\")\n",
    "    elif (BMI <= 24.9):\n",
    "        print(name +\",You are normal weight.\")\n",
    "    elif (BMI < 29.9):\n",
    "        print(name +\",You are over weight.\")\n",
    "    elif (BMI < 34.9):\n",
    "        print(name +\",You are over obese.\")\n",
    "    elif (BMI < 39.9):\n",
    "        print(name +\",You are over severly obese.\")\n",
    "    else:\n",
    "        print(name +\",You are morbidly obese\")\n",
    "else:\n",
    "    print(\"Enter valid input\")"
   ]
  },
  {
   "cell_type": "code",
   "execution_count": 27,
   "id": "6a14a328-80fe-433c-9615-e5f473a8d0a5",
   "metadata": {},
   "outputs": [
    {
     "name": "stdout",
     "output_type": "stream",
     "text": [
      "170 69\n",
      "25.101869355177485\n"
     ]
    }
   ],
   "source": [
    "\n",
    "print(BMI)"
   ]
  },
  {
   "cell_type": "code",
   "execution_count": 41,
   "id": "6f09c2ba-35b3-48b2-91a1-8cca4cc68849",
   "metadata": {},
   "outputs": [
    {
     "ename": "SyntaxError",
     "evalue": "incomplete input (2505739207.py, line 14)",
     "output_type": "error",
     "traceback": [
      "\u001b[1;36m  Cell \u001b[1;32mIn[41], line 14\u001b[1;36m\u001b[0m\n\u001b[1;33m    else:\u001b[0m\n\u001b[1;37m         ^\u001b[0m\n\u001b[1;31mSyntaxError\u001b[0m\u001b[1;31m:\u001b[0m incomplete input\n"
     ]
    }
   ],
   "source": [
    "if BMI > 0:\n",
    "    if (BMI < 18.5):\n",
    "        print(name +\",You are under weight.\")\n",
    "    elif (BMI <= 24.9):\n",
    "        print(name +\",You are normal weight.\")\n",
    "    elif (BMI < 29.9):\n",
    "        print(name +\",You are over weight.\")\n",
    "    elif (BMI < 34.9):\n",
    "        print(name +\",You are over obese.\")\n",
    "    elif (BMI < 39.9):\n",
    "        print(name +\",You are over severly obese.\")\n",
    "    else:\n",
    "        print(name +\",You are morbidly obese\")\n",
    "else:\n",
    "    print(\"Enter valid input\")"
   ]
  },
  {
   "cell_type": "code",
   "execution_count": null,
   "id": "5c5dc5a0-d2f9-4ffb-b433-df93863d9ac5",
   "metadata": {},
   "outputs": [],
   "source": []
  }
 ],
 "metadata": {
  "kernelspec": {
   "display_name": "Python [conda env:base] *",
   "language": "python",
   "name": "conda-base-py"
  },
  "language_info": {
   "codemirror_mode": {
    "name": "ipython",
    "version": 3
   },
   "file_extension": ".py",
   "mimetype": "text/x-python",
   "name": "python",
   "nbconvert_exporter": "python",
   "pygments_lexer": "ipython3",
   "version": "3.12.7"
  }
 },
 "nbformat": 4,
 "nbformat_minor": 5
}
