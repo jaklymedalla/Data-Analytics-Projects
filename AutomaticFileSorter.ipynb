{
 "cells": [
  {
   "cell_type": "code",
   "execution_count": 21,
   "id": "1dd737dd-64a6-4e2c-9453-eb3cae50fad6",
   "metadata": {},
   "outputs": [],
   "source": [
    "import os, shutil"
   ]
  },
  {
   "cell_type": "code",
   "execution_count": 23,
   "id": "ede452c5-a126-4893-acb8-9cfa906b2c4c",
   "metadata": {},
   "outputs": [],
   "source": [
    "path = r\"C:/Users/Anyone/Desktop/Data Analytics/Python/Python Tutorials/\""
   ]
  },
  {
   "cell_type": "code",
   "execution_count": 31,
   "id": "deee3a0a-830a-4128-ae26-9d1dd614d721",
   "metadata": {},
   "outputs": [],
   "source": [
    "file_name = os.listdir(path)"
   ]
  },
  {
   "cell_type": "code",
   "execution_count": 27,
   "id": "7db72167-ef0f-4d56-b0ef-417621a9ed85",
   "metadata": {},
   "outputs": [],
   "source": [
    "folder_names = ['image files', 'pdf files', 'xlsx files']\n",
    "for loop in range(0,3):\n",
    "   if not os.path.exists(path + folder_names[loop]):\n",
    "       print(path + folder_names[loop])\n",
    "       os.makedirs(path + folder_names[loop])"
   ]
  },
  {
   "cell_type": "code",
   "execution_count": 29,
   "id": "e09ce8f3-1c0c-4b56-b6d7-8f4f44fba5d8",
   "metadata": {},
   "outputs": [],
   "source": [
    "for file in file_name:\n",
    "    if \".jpg\" in file and not os.path.exists(path + \"image files/\" + file):\n",
    "        shutil.move(path + file, path + \"image files/\" + file)\n",
    "    if \".pdf\" in file and not os.path.exists(path + \"pdf files/\" + file):\n",
    "        shutil.move(path + file, path + \"pdf files/\" + file)\n",
    "    if \".xlsx\" in file and not os.path.exists(path + \"xlsx files/\" + file):\n",
    "        shutil.move(path + file, path + \"xlsx files/\" + file)"
   ]
  },
  {
   "cell_type": "code",
   "execution_count": null,
   "id": "f82fd348-0d5f-4915-b2b8-6935482d9dd0",
   "metadata": {},
   "outputs": [],
   "source": []
  }
 ],
 "metadata": {
  "kernelspec": {
   "display_name": "Python [conda env:base] *",
   "language": "python",
   "name": "conda-base-py"
  },
  "language_info": {
   "codemirror_mode": {
    "name": "ipython",
    "version": 3
   },
   "file_extension": ".py",
   "mimetype": "text/x-python",
   "name": "python",
   "nbconvert_exporter": "python",
   "pygments_lexer": "ipython3",
   "version": "3.12.7"
  }
 },
 "nbformat": 4,
 "nbformat_minor": 5
}
